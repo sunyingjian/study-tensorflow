{
  "nbformat": 4,
  "nbformat_minor": 0,
  "metadata": {
    "colab": {
      "name": "猫狗数据集自定义训练.ipynb",
      "provenance": [],
      "collapsed_sections": [],
      "authorship_tag": "ABX9TyO4BVzAas22mhZ9zOKAyeXW",
      "include_colab_link": true
    },
    "kernelspec": {
      "name": "python3",
      "display_name": "Python 3"
    },
    "accelerator": "GPU"
  },
  "cells": [
    {
      "cell_type": "markdown",
      "metadata": {
        "id": "view-in-github",
        "colab_type": "text"
      },
      "source": [
        "<a href=\"https://colab.research.google.com/github/sunyingjian/study-tensorflow/blob/master/%E7%8C%AB%E7%8B%97%E6%95%B0%E6%8D%AE%E9%9B%86%E8%87%AA%E5%AE%9A%E4%B9%89%E8%AE%AD%E7%BB%83.ipynb\" target=\"_parent\"><img src=\"https://colab.research.google.com/assets/colab-badge.svg\" alt=\"Open In Colab\"/></a>"
      ]
    },
    {
      "cell_type": "code",
      "metadata": {
        "id": "J6ykGUOKRdT5",
        "colab_type": "code",
        "outputId": "f0836bfe-feb1-4dac-c789-17dd7c95f8ab",
        "colab": {
          "base_uri": "https://localhost:8080/",
          "height": 52
        }
      },
      "source": [
        "%tensorflow_version 2.x\n",
        "import tensorflow as tf\n",
        "import os\n",
        "from google.colab import drive\n",
        "drive.mount('/content/drive')\n",
        "path = \"/content/drive/My Drive/dataset\"\n",
        "os.chdir(path)\n",
        "os.listdir(path)"
      ],
      "execution_count": 42,
      "outputs": [
        {
          "output_type": "stream",
          "text": [
            "Drive already mounted at /content/drive; to attempt to forcibly remount, call drive.mount(\"/content/drive\", force_remount=True).\n"
          ],
          "name": "stdout"
        },
        {
          "output_type": "execute_result",
          "data": {
            "text/plain": [
              "['2_class', 'dc_2000']"
            ]
          },
          "metadata": {
            "tags": []
          },
          "execution_count": 42
        }
      ]
    },
    {
      "cell_type": "code",
      "metadata": {
        "id": "2kId0AcNxP2m",
        "colab_type": "code",
        "colab": {}
      },
      "source": [
        "from tensorflow import keras\n",
        "import matplotlib.pyplot as plt\n",
        "%matplotlib inline\n",
        "import glob#提取图像的路径"
      ],
      "execution_count": 0,
      "outputs": []
    },
    {
      "cell_type": "code",
      "metadata": {
        "id": "Y5Zl7Y4wx_1q",
        "colab_type": "code",
        "colab": {}
      },
      "source": [
        "train_image_path=glob.glob('/content/drive/My Drive/dataset/dc_2000/train/*//*.jpg')"
      ],
      "execution_count": 0,
      "outputs": []
    },
    {
      "cell_type": "code",
      "metadata": {
        "id": "a6cKanAVyyub",
        "colab_type": "code",
        "outputId": "ce949fb7-5fbd-48a1-9b9d-06004082a222",
        "colab": {
          "base_uri": "https://localhost:8080/",
          "height": 35
        }
      },
      "source": [
        "len(train_image_path)"
      ],
      "execution_count": 36,
      "outputs": [
        {
          "output_type": "execute_result",
          "data": {
            "text/plain": [
              "2000"
            ]
          },
          "metadata": {
            "tags": []
          },
          "execution_count": 36
        }
      ]
    },
    {
      "cell_type": "code",
      "metadata": {
        "id": "IBqQL_64y73n",
        "colab_type": "code",
        "outputId": "aa9004e3-7751-4fd5-879f-4a0cec5b5aca",
        "colab": {
          "base_uri": "https://localhost:8080/",
          "height": 104
        }
      },
      "source": [
        "train_image_path[:5]"
      ],
      "execution_count": 38,
      "outputs": [
        {
          "output_type": "execute_result",
          "data": {
            "text/plain": [
              "['/content/drive/My Drive/dataset/dc_2000/train/cat/cat.0.jpg',\n",
              " '/content/drive/My Drive/dataset/dc_2000/train/cat/cat.1.jpg',\n",
              " '/content/drive/My Drive/dataset/dc_2000/train/cat/cat.10.jpg',\n",
              " '/content/drive/My Drive/dataset/dc_2000/train/cat/cat.100.jpg',\n",
              " '/content/drive/My Drive/dataset/dc_2000/train/cat/cat.101.jpg']"
            ]
          },
          "metadata": {
            "tags": []
          },
          "execution_count": 38
        }
      ]
    },
    {
      "cell_type": "code",
      "metadata": {
        "id": "j0bELtvnzCns",
        "colab_type": "code",
        "outputId": "89624b26-f03d-4f24-acfa-9055fa3e3e82",
        "colab": {
          "base_uri": "https://localhost:8080/",
          "height": 104
        }
      },
      "source": [
        "train_image_path[-5:]"
      ],
      "execution_count": 20,
      "outputs": [
        {
          "output_type": "execute_result",
          "data": {
            "text/plain": [
              "['/content/drive/My Drive/dataset/dc_2000/train/dog/dog.997.jpg',\n",
              " '/content/drive/My Drive/dataset/dc_2000/train/dog/dog.998.jpg',\n",
              " '/content/drive/My Drive/dataset/dc_2000/train/dog/dog.999.jpg',\n",
              " '/content/drive/My Drive/dataset/dc_2000/train/dog/dog.992.jpg',\n",
              " '/content/drive/My Drive/dataset/dc_2000/train/dog/dog.993.jpg']"
            ]
          },
          "metadata": {
            "tags": []
          },
          "execution_count": 20
        }
      ]
    },
    {
      "cell_type": "markdown",
      "metadata": {
        "id": "9A02JUo-R3we",
        "colab_type": "text"
      },
      "source": [
        "##进行路径拆分，到他到底是猫还是狗"
      ]
    },
    {
      "cell_type": "code",
      "metadata": {
        "id": "nZbe6hahb4_X",
        "colab_type": "code",
        "colab": {
          "base_uri": "https://localhost:8080/",
          "height": 35
        },
        "outputId": "fac4730f-74bf-4564-c593-070eaf0351fc"
      },
      "source": [
        "p='/content/drive/My Drive/dataset/dc_2000/train/dog/dog.993.jpg'\n",
        "p.split('/')[7]"
      ],
      "execution_count": 41,
      "outputs": [
        {
          "output_type": "execute_result",
          "data": {
            "text/plain": [
              "'dog'"
            ]
          },
          "metadata": {
            "tags": []
          },
          "execution_count": 41
        }
      ]
    },
    {
      "cell_type": "code",
      "metadata": {
        "id": "BcOGVL5OR-WJ",
        "colab_type": "code",
        "colab": {}
      },
      "source": [
        "#我们这里就可以实现把列表的dog和cat变成0和1这样就实现了trainlabel\n",
        "#这样cat就会变成1 因为是转换成了int型\n",
        "train_image_label=[int(p.split('/')[7]=='cat') for p in train_image_path]"
      ],
      "execution_count": 0,
      "outputs": []
    },
    {
      "cell_type": "code",
      "metadata": {
        "id": "InDTzF46gRMG",
        "colab_type": "code",
        "colab": {
          "base_uri": "https://localhost:8080/",
          "height": 35
        },
        "outputId": "a58a6692-4466-4765-8b16-d2dca00e522e"
      },
      "source": [
        "train_image_label[-5:]"
      ],
      "execution_count": 46,
      "outputs": [
        {
          "output_type": "execute_result",
          "data": {
            "text/plain": [
              "[0, 0, 0, 0, 0]"
            ]
          },
          "metadata": {
            "tags": []
          },
          "execution_count": 46
        }
      ]
    },
    {
      "cell_type": "markdown",
      "metadata": {
        "id": "4kVuNcrmgc_i",
        "colab_type": "text"
      },
      "source": [
        "##定义函数读取路径"
      ]
    },
    {
      "cell_type": "code",
      "metadata": {
        "id": "lSWMDahWgb7v",
        "colab_type": "code",
        "colab": {}
      },
      "source": [
        "def load_preprosess_image(path,label):\n",
        "  image=tf.io.read_file(path)#读取这个路径\n",
        "  image=tf.image.decode_jpeg(image,channels=3)#解码数据\n",
        "  #把图像划分到同样大小\n",
        "  image=tf.image.resize(image,[256,256])\n",
        "  #改变数据类型把uint8变成float32\n",
        "  image=tf.cast(image,tf.float32)\n",
        "  #归一化\n",
        "  image=image/255"
      ],
      "execution_count": 0,
      "outputs": []
    }
  ]
}