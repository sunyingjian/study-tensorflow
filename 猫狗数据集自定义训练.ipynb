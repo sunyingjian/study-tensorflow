{
  "nbformat": 4,
  "nbformat_minor": 0,
  "metadata": {
    "colab": {
      "name": "猫狗数据集自定义训练.ipynb",
      "provenance": [],
      "collapsed_sections": [],
      "authorship_tag": "ABX9TyMhoMK2F1braGTe05Z0c7Tz",
      "include_colab_link": true
    },
    "kernelspec": {
      "name": "python3",
      "display_name": "Python 3"
    },
    "accelerator": "GPU"
  },
  "cells": [
    {
      "cell_type": "markdown",
      "metadata": {
        "id": "view-in-github",
        "colab_type": "text"
      },
      "source": [
        "<a href=\"https://colab.research.google.com/github/sunyingjian/study-tensorflow/blob/master/%E7%8C%AB%E7%8B%97%E6%95%B0%E6%8D%AE%E9%9B%86%E8%87%AA%E5%AE%9A%E4%B9%89%E8%AE%AD%E7%BB%83.ipynb\" target=\"_parent\"><img src=\"https://colab.research.google.com/assets/colab-badge.svg\" alt=\"Open In Colab\"/></a>"
      ]
    },
    {
      "cell_type": "code",
      "metadata": {
        "id": "J6ykGUOKRdT5",
        "colab_type": "code",
        "outputId": "0b7eecb1-c144-4fd4-905c-87ba5cec3689",
        "colab": {
          "base_uri": "https://localhost:8080/",
          "height": 35
        }
      },
      "source": [
        "%tensorflow_version 2.x\n",
        "import tensorflow as tf\n",
        "import os\n",
        "from google.colab import drive\n",
        "drive.mount('/content/drive')\n",
        "path = \"/content/drive/My Drive/dataset\"\n",
        "os.chdir(path)\n",
        "os.listdir(path)\n",
        "import numpy as np\n"
      ],
      "execution_count": 28,
      "outputs": [
        {
          "output_type": "stream",
          "text": [
            "Drive already mounted at /content/drive; to attempt to forcibly remount, call drive.mount(\"/content/drive\", force_remount=True).\n"
          ],
          "name": "stdout"
        }
      ]
    },
    {
      "cell_type": "code",
      "metadata": {
        "id": "2kId0AcNxP2m",
        "colab_type": "code",
        "colab": {}
      },
      "source": [
        "from tensorflow import keras\n",
        "import matplotlib.pyplot as plt\n",
        "%matplotlib inline\n",
        "import glob#提取图像的路径"
      ],
      "execution_count": 0,
      "outputs": []
    },
    {
      "cell_type": "code",
      "metadata": {
        "id": "Y5Zl7Y4wx_1q",
        "colab_type": "code",
        "colab": {}
      },
      "source": [
        "train_image_path=glob.glob('/content/drive/My Drive/dataset/dc_2000/train/*//*.jpg')"
      ],
      "execution_count": 0,
      "outputs": []
    },
    {
      "cell_type": "code",
      "metadata": {
        "id": "a6cKanAVyyub",
        "colab_type": "code",
        "outputId": "9d571958-7613-4176-c86e-5e3535bbc556",
        "colab": {
          "base_uri": "https://localhost:8080/",
          "height": 35
        }
      },
      "source": [
        "len(train_image_path)"
      ],
      "execution_count": 31,
      "outputs": [
        {
          "output_type": "execute_result",
          "data": {
            "text/plain": [
              "2000"
            ]
          },
          "metadata": {
            "tags": []
          },
          "execution_count": 31
        }
      ]
    },
    {
      "cell_type": "code",
      "metadata": {
        "id": "IBqQL_64y73n",
        "colab_type": "code",
        "outputId": "bf1cd453-cebc-4c20-bfe4-6adefa0890a0",
        "colab": {
          "base_uri": "https://localhost:8080/",
          "height": 104
        }
      },
      "source": [
        "train_image_path[:5]"
      ],
      "execution_count": 32,
      "outputs": [
        {
          "output_type": "execute_result",
          "data": {
            "text/plain": [
              "['/content/drive/My Drive/dataset/dc_2000/train/cat/cat.0.jpg',\n",
              " '/content/drive/My Drive/dataset/dc_2000/train/cat/cat.1.jpg',\n",
              " '/content/drive/My Drive/dataset/dc_2000/train/cat/cat.10.jpg',\n",
              " '/content/drive/My Drive/dataset/dc_2000/train/cat/cat.100.jpg',\n",
              " '/content/drive/My Drive/dataset/dc_2000/train/cat/cat.101.jpg']"
            ]
          },
          "metadata": {
            "tags": []
          },
          "execution_count": 32
        }
      ]
    },
    {
      "cell_type": "code",
      "metadata": {
        "id": "j0bELtvnzCns",
        "colab_type": "code",
        "outputId": "1a28b12d-3c0c-40d0-ac48-d36620eb8667",
        "colab": {
          "base_uri": "https://localhost:8080/",
          "height": 104
        }
      },
      "source": [
        "train_image_path[-5:]"
      ],
      "execution_count": 33,
      "outputs": [
        {
          "output_type": "execute_result",
          "data": {
            "text/plain": [
              "['/content/drive/My Drive/dataset/dc_2000/train/dog/dog.997.jpg',\n",
              " '/content/drive/My Drive/dataset/dc_2000/train/dog/dog.998.jpg',\n",
              " '/content/drive/My Drive/dataset/dc_2000/train/dog/dog.999.jpg',\n",
              " '/content/drive/My Drive/dataset/dc_2000/train/dog/dog.992.jpg',\n",
              " '/content/drive/My Drive/dataset/dc_2000/train/dog/dog.993.jpg']"
            ]
          },
          "metadata": {
            "tags": []
          },
          "execution_count": 33
        }
      ]
    },
    {
      "cell_type": "markdown",
      "metadata": {
        "id": "9A02JUo-R3we",
        "colab_type": "text"
      },
      "source": [
        "##进行路径拆分，到他到底是猫还是狗"
      ]
    },
    {
      "cell_type": "code",
      "metadata": {
        "id": "nZbe6hahb4_X",
        "colab_type": "code",
        "outputId": "73ac409d-a016-4d69-dd7f-414755e7cfb7",
        "colab": {
          "base_uri": "https://localhost:8080/",
          "height": 35
        }
      },
      "source": [
        "p='/content/drive/My Drive/dataset/dc_2000/train/dog/dog.993.jpg'\n",
        "p.split('/')[7]"
      ],
      "execution_count": 34,
      "outputs": [
        {
          "output_type": "execute_result",
          "data": {
            "text/plain": [
              "'dog'"
            ]
          },
          "metadata": {
            "tags": []
          },
          "execution_count": 34
        }
      ]
    },
    {
      "cell_type": "code",
      "metadata": {
        "id": "BcOGVL5OR-WJ",
        "colab_type": "code",
        "colab": {}
      },
      "source": [
        "#我们这里就可以实现把列表的dog和cat变成0和1这样就实现了trainlabel\n",
        "#这样cat就会变成1 因为是转换成了int型\n",
        "train_image_label=[int(p.split('/')[7]=='cat') for p in train_image_path]"
      ],
      "execution_count": 0,
      "outputs": []
    },
    {
      "cell_type": "code",
      "metadata": {
        "id": "InDTzF46gRMG",
        "colab_type": "code",
        "outputId": "215a717a-519f-46e6-d69a-53d18c839cdf",
        "colab": {
          "base_uri": "https://localhost:8080/",
          "height": 35
        }
      },
      "source": [
        "train_image_label[-5:]"
      ],
      "execution_count": 36,
      "outputs": [
        {
          "output_type": "execute_result",
          "data": {
            "text/plain": [
              "[0, 0, 0, 0, 0]"
            ]
          },
          "metadata": {
            "tags": []
          },
          "execution_count": 36
        }
      ]
    },
    {
      "cell_type": "markdown",
      "metadata": {
        "id": "4kVuNcrmgc_i",
        "colab_type": "text"
      },
      "source": [
        "##定义函数读取路径"
      ]
    },
    {
      "cell_type": "code",
      "metadata": {
        "id": "lSWMDahWgb7v",
        "colab_type": "code",
        "colab": {}
      },
      "source": [
        "def load_preprosess_image(path,label):\n",
        "  image=tf.io.read_file(path)#读取这个路径\n",
        "  image=tf.image.decode_jpeg(image,channels=3)#解码数据\n",
        "  #把图像划分到同样大小\n",
        "  image=tf.image.resize(image,[256,256])\n",
        "  #改变数据类型把uint8变成float32\n",
        "  image=tf.cast(image,tf.float32)\n",
        "  #归一化\n",
        "  image=image/255\n",
        "  #处理标签,把连着的label断开\n",
        "  #[1,2,3]→[1][2][3]这个样子\n",
        "  label=tf.reshape(label,[1])\n",
        "  return image,label"
      ],
      "execution_count": 0,
      "outputs": []
    },
    {
      "cell_type": "markdown",
      "metadata": {
        "id": "J133DXaJY3SD",
        "colab_type": "text"
      },
      "source": [
        "##创建数据集"
      ]
    },
    {
      "cell_type": "code",
      "metadata": {
        "id": "D-A2IseTYyqv",
        "colab_type": "code",
        "colab": {}
      },
      "source": [
        "#创建数据集\n",
        "train_image_ds=tf.data.Dataset.from_tensor_slices((train_image_path,train_image_label))\n",
        "AUTOTUNE=tf.data.experimental.AUTOTUNE\n",
        "#实现针对于cpu智能的并行的创建数据集\n",
        "train_image_ds=train_image_ds.map(load_preprosess_image,num_parallel_calls=AUTOTUNE)"
      ],
      "execution_count": 0,
      "outputs": []
    },
    {
      "cell_type": "code",
      "metadata": {
        "id": "5iObHRUsbJcF",
        "colab_type": "code",
        "outputId": "c37d4b28-811c-4695-b23a-da787d19122c",
        "colab": {
          "base_uri": "https://localhost:8080/",
          "height": 35
        }
      },
      "source": [
        "train_image_ds"
      ],
      "execution_count": 39,
      "outputs": [
        {
          "output_type": "execute_result",
          "data": {
            "text/plain": [
              "<ParallelMapDataset shapes: ((256, 256, 3), (1,)), types: (tf.float32, tf.int32)>"
            ]
          },
          "metadata": {
            "tags": []
          },
          "execution_count": 39
        }
      ]
    },
    {
      "cell_type": "code",
      "metadata": {
        "id": "pJ9VmbB4eeQn",
        "colab_type": "code",
        "colab": {}
      },
      "source": [
        "#设置batchsize\n",
        "BATCH_SIZE=128#根据性能测试\n",
        "train_count=len(train_image_path)\n",
        "train_image_ds=train_image_ds.shuffle(train_count).batch(BATCH_SIZE)\n",
        "#为了加速训练过程\n",
        "train_image_ds=train_image_ds.prefetch(AUTOTUNE)"
      ],
      "execution_count": 0,
      "outputs": []
    },
    {
      "cell_type": "code",
      "metadata": {
        "id": "YnRiGCqZgc5Q",
        "colab_type": "code",
        "colab": {}
      },
      "source": [
        "#这里的化他是一个eage模式的 他是可以迭代的，我们尝试着从中取出一个看一下\n",
        "image,labels=next(iter(train_image_ds))"
      ],
      "execution_count": 0,
      "outputs": []
    },
    {
      "cell_type": "code",
      "metadata": {
        "id": "XQtHnLS2gtaI",
        "colab_type": "code",
        "outputId": "abbd44dd-ad5e-4b65-c785-1afb848b87ab",
        "colab": {
          "base_uri": "https://localhost:8080/",
          "height": 35
        }
      },
      "source": [
        "image.shape"
      ],
      "execution_count": 42,
      "outputs": [
        {
          "output_type": "execute_result",
          "data": {
            "text/plain": [
              "TensorShape([128, 256, 256, 3])"
            ]
          },
          "metadata": {
            "tags": []
          },
          "execution_count": 42
        }
      ]
    },
    {
      "cell_type": "code",
      "metadata": {
        "id": "UXPkMMJAjLhK",
        "colab_type": "code",
        "outputId": "31ccd29c-3445-4277-9fd2-54c0cb83811b",
        "colab": {
          "base_uri": "https://localhost:8080/",
          "height": 35
        }
      },
      "source": [
        "labels.shape"
      ],
      "execution_count": 43,
      "outputs": [
        {
          "output_type": "execute_result",
          "data": {
            "text/plain": [
              "TensorShape([128, 1])"
            ]
          },
          "metadata": {
            "tags": []
          },
          "execution_count": 43
        }
      ]
    },
    {
      "cell_type": "markdown",
      "metadata": {
        "id": "HR8Dmd1H3vl4",
        "colab_type": "text"
      },
      "source": [
        "##创建模型"
      ]
    },
    {
      "cell_type": "code",
      "metadata": {
        "id": "n9oDd4rx3r3R",
        "colab_type": "code",
        "colab": {}
      },
      "source": [
        "model=tf.keras.Sequential([\n",
        "    tf.keras.layers.Conv2D(64,(3,3),input_shape=(256,256,3),activation='relu'),\n",
        "    tf.keras.layers.MaxPooling2D(),\n",
        "    tf.keras.layers.Conv2D(128,(3,3),activation='relu'),\n",
        "    tf.keras.layers.MaxPooling2D(),\n",
        "    tf.keras.layers.Conv2D(256,(3,3),activation='relu'),\n",
        "    tf.keras.layers.MaxPooling2D(),\n",
        "    tf.keras.layers.Conv2D(512,(3,3),activation='relu'),\n",
        "    tf.keras.layers.MaxPooling2D(),\n",
        "    tf.keras.layers.Conv2D(1024,(3,3),activation='relu'),\n",
        "    tf.keras.layers.GlobalAveragePooling2D(),\n",
        "    tf.keras.layers.Dense(256,activation='relu'),\n",
        "    tf.keras.layers.Dense(1)\n",
        "])"
      ],
      "execution_count": 0,
      "outputs": []
    },
    {
      "cell_type": "code",
      "metadata": {
        "id": "wulNrT6i_vSF",
        "colab_type": "code",
        "outputId": "775a703f-c128-4a03-e55d-0f1f17807ddc",
        "colab": {
          "base_uri": "https://localhost:8080/",
          "height": 570
        }
      },
      "source": [
        "model.summary()"
      ],
      "execution_count": 45,
      "outputs": [
        {
          "output_type": "stream",
          "text": [
            "Model: \"sequential_1\"\n",
            "_________________________________________________________________\n",
            "Layer (type)                 Output Shape              Param #   \n",
            "=================================================================\n",
            "conv2d_5 (Conv2D)            (None, 254, 254, 64)      1792      \n",
            "_________________________________________________________________\n",
            "max_pooling2d_4 (MaxPooling2 (None, 127, 127, 64)      0         \n",
            "_________________________________________________________________\n",
            "conv2d_6 (Conv2D)            (None, 125, 125, 128)     73856     \n",
            "_________________________________________________________________\n",
            "max_pooling2d_5 (MaxPooling2 (None, 62, 62, 128)       0         \n",
            "_________________________________________________________________\n",
            "conv2d_7 (Conv2D)            (None, 60, 60, 256)       295168    \n",
            "_________________________________________________________________\n",
            "max_pooling2d_6 (MaxPooling2 (None, 30, 30, 256)       0         \n",
            "_________________________________________________________________\n",
            "conv2d_8 (Conv2D)            (None, 28, 28, 512)       1180160   \n",
            "_________________________________________________________________\n",
            "max_pooling2d_7 (MaxPooling2 (None, 14, 14, 512)       0         \n",
            "_________________________________________________________________\n",
            "conv2d_9 (Conv2D)            (None, 12, 12, 1024)      4719616   \n",
            "_________________________________________________________________\n",
            "global_average_pooling2d_1 ( (None, 1024)              0         \n",
            "_________________________________________________________________\n",
            "dense_2 (Dense)              (None, 256)               262400    \n",
            "_________________________________________________________________\n",
            "dense_3 (Dense)              (None, 1)                 257       \n",
            "=================================================================\n",
            "Total params: 6,533,249\n",
            "Trainable params: 6,533,249\n",
            "Non-trainable params: 0\n",
            "_________________________________________________________________\n"
          ],
          "name": "stdout"
        }
      ]
    },
    {
      "cell_type": "code",
      "metadata": {
        "id": "x_qE20564en7",
        "colab_type": "code",
        "colab": {}
      },
      "source": [
        "pred=model(image)"
      ],
      "execution_count": 0,
      "outputs": []
    },
    {
      "cell_type": "code",
      "metadata": {
        "id": "VKFMD7U1439r",
        "colab_type": "code",
        "outputId": "480bed37-3b43-4280-bc75-7942db1ee2c8",
        "colab": {
          "base_uri": "https://localhost:8080/",
          "height": 1000
        }
      },
      "source": [
        "tf.cast(pred>0,tf.int32)"
      ],
      "execution_count": 47,
      "outputs": [
        {
          "output_type": "execute_result",
          "data": {
            "text/plain": [
              "<tf.Tensor: shape=(128, 1), dtype=int32, numpy=\n",
              "array([[0],\n",
              "       [0],\n",
              "       [0],\n",
              "       [0],\n",
              "       [0],\n",
              "       [0],\n",
              "       [0],\n",
              "       [0],\n",
              "       [0],\n",
              "       [0],\n",
              "       [0],\n",
              "       [0],\n",
              "       [0],\n",
              "       [0],\n",
              "       [0],\n",
              "       [0],\n",
              "       [0],\n",
              "       [0],\n",
              "       [0],\n",
              "       [0],\n",
              "       [0],\n",
              "       [0],\n",
              "       [0],\n",
              "       [0],\n",
              "       [0],\n",
              "       [0],\n",
              "       [0],\n",
              "       [0],\n",
              "       [0],\n",
              "       [0],\n",
              "       [0],\n",
              "       [0],\n",
              "       [0],\n",
              "       [0],\n",
              "       [0],\n",
              "       [0],\n",
              "       [0],\n",
              "       [0],\n",
              "       [0],\n",
              "       [0],\n",
              "       [0],\n",
              "       [0],\n",
              "       [0],\n",
              "       [0],\n",
              "       [0],\n",
              "       [0],\n",
              "       [0],\n",
              "       [0],\n",
              "       [0],\n",
              "       [0],\n",
              "       [0],\n",
              "       [0],\n",
              "       [0],\n",
              "       [0],\n",
              "       [0],\n",
              "       [0],\n",
              "       [0],\n",
              "       [0],\n",
              "       [0],\n",
              "       [0],\n",
              "       [0],\n",
              "       [0],\n",
              "       [0],\n",
              "       [0],\n",
              "       [0],\n",
              "       [0],\n",
              "       [0],\n",
              "       [0],\n",
              "       [0],\n",
              "       [0],\n",
              "       [0],\n",
              "       [0],\n",
              "       [0],\n",
              "       [0],\n",
              "       [0],\n",
              "       [0],\n",
              "       [0],\n",
              "       [0],\n",
              "       [0],\n",
              "       [0],\n",
              "       [0],\n",
              "       [0],\n",
              "       [0],\n",
              "       [0],\n",
              "       [0],\n",
              "       [0],\n",
              "       [0],\n",
              "       [0],\n",
              "       [0],\n",
              "       [0],\n",
              "       [0],\n",
              "       [0],\n",
              "       [0],\n",
              "       [0],\n",
              "       [0],\n",
              "       [0],\n",
              "       [0],\n",
              "       [0],\n",
              "       [0],\n",
              "       [0],\n",
              "       [0],\n",
              "       [0],\n",
              "       [0],\n",
              "       [0],\n",
              "       [0],\n",
              "       [0],\n",
              "       [0],\n",
              "       [0],\n",
              "       [0],\n",
              "       [0],\n",
              "       [0],\n",
              "       [0],\n",
              "       [0],\n",
              "       [0],\n",
              "       [0],\n",
              "       [0],\n",
              "       [0],\n",
              "       [0],\n",
              "       [0],\n",
              "       [0],\n",
              "       [0],\n",
              "       [0],\n",
              "       [0],\n",
              "       [0],\n",
              "       [0],\n",
              "       [0],\n",
              "       [0],\n",
              "       [0]], dtype=int32)>"
            ]
          },
          "metadata": {
            "tags": []
          },
          "execution_count": 47
        }
      ]
    },
    {
      "cell_type": "code",
      "metadata": {
        "id": "KUGGACKbQnxv",
        "colab_type": "code",
        "outputId": "e8d4c45b-822d-4542-8ff7-5b374b877375",
        "colab": {
          "base_uri": "https://localhost:8080/",
          "height": 35
        }
      },
      "source": [
        "np.array(p[0].numpy() for p in tf.cast(pred>0,tf.int32))"
      ],
      "execution_count": 48,
      "outputs": [
        {
          "output_type": "execute_result",
          "data": {
            "text/plain": [
              "array(<generator object <genexpr> at 0x7fe305f040f8>, dtype=object)"
            ]
          },
          "metadata": {
            "tags": []
          },
          "execution_count": 48
        }
      ]
    },
    {
      "cell_type": "code",
      "metadata": {
        "id": "sxqcz4QZRTOO",
        "colab_type": "code",
        "outputId": "d868d7c3-f6d5-4537-8ffd-c94392757b04",
        "colab": {
          "base_uri": "https://localhost:8080/",
          "height": 1000
        }
      },
      "source": [
        "labels"
      ],
      "execution_count": 49,
      "outputs": [
        {
          "output_type": "execute_result",
          "data": {
            "text/plain": [
              "<tf.Tensor: shape=(128, 1), dtype=int32, numpy=\n",
              "array([[1],\n",
              "       [0],\n",
              "       [0],\n",
              "       [1],\n",
              "       [1],\n",
              "       [1],\n",
              "       [0],\n",
              "       [1],\n",
              "       [1],\n",
              "       [0],\n",
              "       [1],\n",
              "       [1],\n",
              "       [1],\n",
              "       [0],\n",
              "       [0],\n",
              "       [1],\n",
              "       [0],\n",
              "       [1],\n",
              "       [0],\n",
              "       [1],\n",
              "       [1],\n",
              "       [1],\n",
              "       [0],\n",
              "       [1],\n",
              "       [0],\n",
              "       [0],\n",
              "       [1],\n",
              "       [1],\n",
              "       [0],\n",
              "       [0],\n",
              "       [0],\n",
              "       [0],\n",
              "       [1],\n",
              "       [1],\n",
              "       [1],\n",
              "       [1],\n",
              "       [1],\n",
              "       [1],\n",
              "       [1],\n",
              "       [0],\n",
              "       [1],\n",
              "       [0],\n",
              "       [0],\n",
              "       [0],\n",
              "       [1],\n",
              "       [1],\n",
              "       [0],\n",
              "       [1],\n",
              "       [0],\n",
              "       [0],\n",
              "       [1],\n",
              "       [0],\n",
              "       [1],\n",
              "       [0],\n",
              "       [0],\n",
              "       [1],\n",
              "       [0],\n",
              "       [1],\n",
              "       [0],\n",
              "       [1],\n",
              "       [1],\n",
              "       [0],\n",
              "       [1],\n",
              "       [0],\n",
              "       [0],\n",
              "       [1],\n",
              "       [1],\n",
              "       [1],\n",
              "       [0],\n",
              "       [0],\n",
              "       [0],\n",
              "       [0],\n",
              "       [1],\n",
              "       [0],\n",
              "       [1],\n",
              "       [1],\n",
              "       [1],\n",
              "       [0],\n",
              "       [0],\n",
              "       [1],\n",
              "       [1],\n",
              "       [1],\n",
              "       [0],\n",
              "       [1],\n",
              "       [0],\n",
              "       [0],\n",
              "       [0],\n",
              "       [1],\n",
              "       [0],\n",
              "       [0],\n",
              "       [1],\n",
              "       [0],\n",
              "       [1],\n",
              "       [1],\n",
              "       [0],\n",
              "       [0],\n",
              "       [0],\n",
              "       [1],\n",
              "       [1],\n",
              "       [1],\n",
              "       [0],\n",
              "       [1],\n",
              "       [0],\n",
              "       [0],\n",
              "       [1],\n",
              "       [1],\n",
              "       [1],\n",
              "       [1],\n",
              "       [1],\n",
              "       [0],\n",
              "       [0],\n",
              "       [1],\n",
              "       [1],\n",
              "       [0],\n",
              "       [0],\n",
              "       [1],\n",
              "       [1],\n",
              "       [0],\n",
              "       [1],\n",
              "       [0],\n",
              "       [0],\n",
              "       [0],\n",
              "       [1],\n",
              "       [0],\n",
              "       [0],\n",
              "       [1],\n",
              "       [1],\n",
              "       [0]], dtype=int32)>"
            ]
          },
          "metadata": {
            "tags": []
          },
          "execution_count": 49
        }
      ]
    },
    {
      "cell_type": "code",
      "metadata": {
        "id": "XlA7M-nxRV9U",
        "colab_type": "code",
        "outputId": "a094a39d-6f10-4248-d9c8-3ae4dde3dd13",
        "colab": {
          "base_uri": "https://localhost:8080/",
          "height": 35
        }
      },
      "source": [
        "np.array(p[0].numpy() for l in labels)"
      ],
      "execution_count": 50,
      "outputs": [
        {
          "output_type": "execute_result",
          "data": {
            "text/plain": [
              "array(<generator object <genexpr> at 0x7fe305f04ba0>, dtype=object)"
            ]
          },
          "metadata": {
            "tags": []
          },
          "execution_count": 50
        }
      ]
    },
    {
      "cell_type": "markdown",
      "metadata": {
        "id": "xf0UpsUz2H6M",
        "colab_type": "text"
      },
      "source": [
        "##自定义损失函数"
      ]
    },
    {
      "cell_type": "code",
      "metadata": {
        "id": "LhLJnmglSXtA",
        "colab_type": "code",
        "colab": {}
      },
      "source": [
        "ls=tf.keras.losses.BinaryCrossentropy()#大写的是返回的可调用的函数"
      ],
      "execution_count": 0,
      "outputs": []
    },
    {
      "cell_type": "code",
      "metadata": {
        "id": "yGsT_eDKnxNU",
        "colab_type": "code",
        "outputId": "a330e0f5-2bd2-4c89-d7a9-65525117b503",
        "colab": {
          "base_uri": "https://localhost:8080/",
          "height": 35
        }
      },
      "source": [
        "ls([0.,0.,1.,1.],[1.,1.,1.,1.])"
      ],
      "execution_count": 52,
      "outputs": [
        {
          "output_type": "execute_result",
          "data": {
            "text/plain": [
              "<tf.Tensor: shape=(), dtype=float32, numpy=7.6666193>"
            ]
          },
          "metadata": {
            "tags": []
          },
          "execution_count": 52
        }
      ]
    },
    {
      "cell_type": "code",
      "metadata": {
        "id": "XiLzoqwW1T4u",
        "colab_type": "code",
        "outputId": "80c93813-a889-4b62-897d-7ff036acb637",
        "colab": {
          "base_uri": "https://localhost:8080/",
          "height": 35
        }
      },
      "source": [
        "ls=tf.keras.losses.binary_crossentropy([0.,0.,1.,1,],[1.,1.,1.,1.])\n",
        "print(ls)"
      ],
      "execution_count": 53,
      "outputs": [
        {
          "output_type": "stream",
          "text": [
            "tf.Tensor(7.6666193, shape=(), dtype=float32)\n"
          ],
          "name": "stdout"
        }
      ]
    },
    {
      "cell_type": "markdown",
      "metadata": {
        "id": "tVj9I16zCq25",
        "colab_type": "text"
      },
      "source": [
        "#计算均值与正确率"
      ]
    },
    {
      "cell_type": "code",
      "metadata": {
        "id": "gv83ULTaCYYN",
        "colab_type": "code",
        "colab": {}
      },
      "source": [
        "epoch_loss_avg=tg.keras.metrics.Mean('trian_loss')\n",
        "train_accuracy=tf.keras.metrics.Accuracy()"
      ],
      "execution_count": 0,
      "outputs": []
    },
    {
      "cell_type": "markdown",
      "metadata": {
        "id": "OR8Ae1kq2L-K",
        "colab_type": "text"
      },
      "source": [
        "##自定义优化器"
      ]
    },
    {
      "cell_type": "code",
      "metadata": {
        "id": "UTBSyBtY2GPV",
        "colab_type": "code",
        "colab": {}
      },
      "source": [
        "optimizer=tf.keras.optimizers.Adam()\n",
        "#定义一步优化函数\n",
        "def train_step(model,images,labels):\n",
        "  with tf.GradientTape() as t:#创建一个上下文管理器\n",
        "    pred=model(images)#pred就是我们要预测的值\n",
        "    loss_step=tf.keras.losses.BinaryCrossentropy(from_logits=True)(label,pred)\n",
        "  grads=t.gradient(loss_step,model.trainable_variables)#这里是在计算梯度\n",
        "  optimizer.apply_gradients(zip(grads,model.trainable_variables))"
      ],
      "execution_count": 0,
      "outputs": []
    }
  ]
}