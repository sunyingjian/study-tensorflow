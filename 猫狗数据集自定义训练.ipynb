{
  "nbformat": 4,
  "nbformat_minor": 0,
  "metadata": {
    "colab": {
      "name": "猫狗数据集自定义训练.ipynb",
      "provenance": [],
      "collapsed_sections": [],
      "authorship_tag": "ABX9TyNvAtLGzeo9NH8rri8sWNVa",
      "include_colab_link": true
    },
    "kernelspec": {
      "name": "python3",
      "display_name": "Python 3"
    },
    "accelerator": "GPU"
  },
  "cells": [
    {
      "cell_type": "markdown",
      "metadata": {
        "id": "view-in-github",
        "colab_type": "text"
      },
      "source": [
        "<a href=\"https://colab.research.google.com/github/sunyingjian/study-tensorflow/blob/master/%E7%8C%AB%E7%8B%97%E6%95%B0%E6%8D%AE%E9%9B%86%E8%87%AA%E5%AE%9A%E4%B9%89%E8%AE%AD%E7%BB%83.ipynb\" target=\"_parent\"><img src=\"https://colab.research.google.com/assets/colab-badge.svg\" alt=\"Open In Colab\"/></a>"
      ]
    },
    {
      "cell_type": "code",
      "metadata": {
        "id": "J6ykGUOKRdT5",
        "colab_type": "code",
        "outputId": "ebfe57c8-5a2c-434a-cb84-ed801b04a772",
        "colab": {
          "base_uri": "https://localhost:8080/",
          "height": 141
        }
      },
      "source": [
        "%tensorflow_version 2.x\n",
        "import tensorflow as tf\n",
        "import os\n",
        "from google.colab import drive\n",
        "drive.mount('/content/drive')\n",
        "path = \"/content/drive/My Drive/dataset\"\n",
        "os.chdir(path)\n",
        "os.listdir(path)"
      ],
      "execution_count": 1,
      "outputs": [
        {
          "output_type": "stream",
          "text": [
            "Go to this URL in a browser: https://accounts.google.com/o/oauth2/auth?client_id=947318989803-6bn6qk8qdgf4n4g3pfee6491hc0brc4i.apps.googleusercontent.com&redirect_uri=urn%3aietf%3awg%3aoauth%3a2.0%3aoob&response_type=code&scope=email%20https%3a%2f%2fwww.googleapis.com%2fauth%2fdocs.test%20https%3a%2f%2fwww.googleapis.com%2fauth%2fdrive%20https%3a%2f%2fwww.googleapis.com%2fauth%2fdrive.photos.readonly%20https%3a%2f%2fwww.googleapis.com%2fauth%2fpeopleapi.readonly\n",
            "\n",
            "Enter your authorization code:\n",
            "··········\n",
            "Mounted at /content/drive\n"
          ],
          "name": "stdout"
        },
        {
          "output_type": "execute_result",
          "data": {
            "text/plain": [
              "['2_class', 'dc_2000']"
            ]
          },
          "metadata": {
            "tags": []
          },
          "execution_count": 1
        }
      ]
    },
    {
      "cell_type": "code",
      "metadata": {
        "id": "2kId0AcNxP2m",
        "colab_type": "code",
        "colab": {}
      },
      "source": [
        "from tensorflow import keras\n",
        "import matplotlib.pyplot as plt\n",
        "%matplotlib inline\n",
        "import glob#提取图像的路径"
      ],
      "execution_count": 0,
      "outputs": []
    },
    {
      "cell_type": "code",
      "metadata": {
        "id": "Y5Zl7Y4wx_1q",
        "colab_type": "code",
        "colab": {}
      },
      "source": [
        "train_image_path=glob.glob('/content/drive/My Drive/dataset/dc_2000/train/*//*.jpg')"
      ],
      "execution_count": 0,
      "outputs": []
    },
    {
      "cell_type": "code",
      "metadata": {
        "id": "a6cKanAVyyub",
        "colab_type": "code",
        "outputId": "7fdee41b-3d5a-4bc5-b8a6-4f427c632ab9",
        "colab": {
          "base_uri": "https://localhost:8080/",
          "height": 35
        }
      },
      "source": [
        "len(train_image_path)"
      ],
      "execution_count": 4,
      "outputs": [
        {
          "output_type": "execute_result",
          "data": {
            "text/plain": [
              "2000"
            ]
          },
          "metadata": {
            "tags": []
          },
          "execution_count": 4
        }
      ]
    },
    {
      "cell_type": "code",
      "metadata": {
        "id": "IBqQL_64y73n",
        "colab_type": "code",
        "outputId": "e71e57a1-84b4-4143-f180-7a193da048c9",
        "colab": {
          "base_uri": "https://localhost:8080/",
          "height": 104
        }
      },
      "source": [
        "train_image_path[:5]"
      ],
      "execution_count": 5,
      "outputs": [
        {
          "output_type": "execute_result",
          "data": {
            "text/plain": [
              "['/content/drive/My Drive/dataset/dc_2000/train/cat/cat.0.jpg',\n",
              " '/content/drive/My Drive/dataset/dc_2000/train/cat/cat.1.jpg',\n",
              " '/content/drive/My Drive/dataset/dc_2000/train/cat/cat.10.jpg',\n",
              " '/content/drive/My Drive/dataset/dc_2000/train/cat/cat.100.jpg',\n",
              " '/content/drive/My Drive/dataset/dc_2000/train/cat/cat.101.jpg']"
            ]
          },
          "metadata": {
            "tags": []
          },
          "execution_count": 5
        }
      ]
    },
    {
      "cell_type": "code",
      "metadata": {
        "id": "j0bELtvnzCns",
        "colab_type": "code",
        "outputId": "beafb06b-fad9-4db6-b8b5-6ebbca6ae197",
        "colab": {
          "base_uri": "https://localhost:8080/",
          "height": 104
        }
      },
      "source": [
        "train_image_path[-5:]"
      ],
      "execution_count": 6,
      "outputs": [
        {
          "output_type": "execute_result",
          "data": {
            "text/plain": [
              "['/content/drive/My Drive/dataset/dc_2000/train/dog/dog.997.jpg',\n",
              " '/content/drive/My Drive/dataset/dc_2000/train/dog/dog.998.jpg',\n",
              " '/content/drive/My Drive/dataset/dc_2000/train/dog/dog.999.jpg',\n",
              " '/content/drive/My Drive/dataset/dc_2000/train/dog/dog.992.jpg',\n",
              " '/content/drive/My Drive/dataset/dc_2000/train/dog/dog.993.jpg']"
            ]
          },
          "metadata": {
            "tags": []
          },
          "execution_count": 6
        }
      ]
    },
    {
      "cell_type": "markdown",
      "metadata": {
        "id": "9A02JUo-R3we",
        "colab_type": "text"
      },
      "source": [
        "##进行路径拆分，到他到底是猫还是狗"
      ]
    },
    {
      "cell_type": "code",
      "metadata": {
        "id": "nZbe6hahb4_X",
        "colab_type": "code",
        "outputId": "078bb3e3-9775-4deb-8b6f-77934be18857",
        "colab": {
          "base_uri": "https://localhost:8080/",
          "height": 35
        }
      },
      "source": [
        "p='/content/drive/My Drive/dataset/dc_2000/train/dog/dog.993.jpg'\n",
        "p.split('/')[7]"
      ],
      "execution_count": 7,
      "outputs": [
        {
          "output_type": "execute_result",
          "data": {
            "text/plain": [
              "'dog'"
            ]
          },
          "metadata": {
            "tags": []
          },
          "execution_count": 7
        }
      ]
    },
    {
      "cell_type": "code",
      "metadata": {
        "id": "BcOGVL5OR-WJ",
        "colab_type": "code",
        "colab": {}
      },
      "source": [
        "#我们这里就可以实现把列表的dog和cat变成0和1这样就实现了trainlabel\n",
        "#这样cat就会变成1 因为是转换成了int型\n",
        "train_image_label=[int(p.split('/')[7]=='cat') for p in train_image_path]"
      ],
      "execution_count": 0,
      "outputs": []
    },
    {
      "cell_type": "code",
      "metadata": {
        "id": "InDTzF46gRMG",
        "colab_type": "code",
        "outputId": "1015689d-f7b1-4045-dd32-ab1dffb67b15",
        "colab": {
          "base_uri": "https://localhost:8080/",
          "height": 35
        }
      },
      "source": [
        "train_image_label[-5:]"
      ],
      "execution_count": 9,
      "outputs": [
        {
          "output_type": "execute_result",
          "data": {
            "text/plain": [
              "[0, 0, 0, 0, 0]"
            ]
          },
          "metadata": {
            "tags": []
          },
          "execution_count": 9
        }
      ]
    },
    {
      "cell_type": "markdown",
      "metadata": {
        "id": "4kVuNcrmgc_i",
        "colab_type": "text"
      },
      "source": [
        "##定义函数读取路径"
      ]
    },
    {
      "cell_type": "code",
      "metadata": {
        "id": "lSWMDahWgb7v",
        "colab_type": "code",
        "colab": {}
      },
      "source": [
        "def load_preprosess_image(path,label):\n",
        "  image=tf.io.read_file(path)#读取这个路径\n",
        "  image=tf.image.decode_jpeg(image,channels=3)#解码数据\n",
        "  #把图像划分到同样大小\n",
        "  image=tf.image.resize(image,[256,256])\n",
        "  #改变数据类型把uint8变成float32\n",
        "  image=tf.cast(image,tf.float32)\n",
        "  #归一化\n",
        "  image=image/255\n",
        "  #处理标签,把连着的label断开\n",
        "  #[1,2,3]→[1][2][3]这个样子\n",
        "  label=tf.reshape(label,[1])\n",
        "  return image,label"
      ],
      "execution_count": 0,
      "outputs": []
    },
    {
      "cell_type": "markdown",
      "metadata": {
        "id": "J133DXaJY3SD",
        "colab_type": "text"
      },
      "source": [
        "##创建数据集"
      ]
    },
    {
      "cell_type": "code",
      "metadata": {
        "id": "D-A2IseTYyqv",
        "colab_type": "code",
        "colab": {}
      },
      "source": [
        "#创建数据集\n",
        "train_image_ds=tf.data.Dataset.from_tensor_slices((train_image_path,train_image_label))\n",
        "AUTOTUNE=tf.data.experimental.AUTOTUNE\n",
        "#实现针对于cpu智能的并行的创建数据集\n",
        "train_image_ds=train_image_ds.map(load_preprosess_image,num_parallel_calls=AUTOTUNE)"
      ],
      "execution_count": 0,
      "outputs": []
    },
    {
      "cell_type": "code",
      "metadata": {
        "id": "5iObHRUsbJcF",
        "colab_type": "code",
        "outputId": "b5e08ef8-f87c-4e49-8902-c3eb69b7a22d",
        "colab": {
          "base_uri": "https://localhost:8080/",
          "height": 35
        }
      },
      "source": [
        "train_image_ds"
      ],
      "execution_count": 12,
      "outputs": [
        {
          "output_type": "execute_result",
          "data": {
            "text/plain": [
              "<ParallelMapDataset shapes: ((256, 256, 3), (1,)), types: (tf.float32, tf.int32)>"
            ]
          },
          "metadata": {
            "tags": []
          },
          "execution_count": 12
        }
      ]
    },
    {
      "cell_type": "code",
      "metadata": {
        "id": "pJ9VmbB4eeQn",
        "colab_type": "code",
        "colab": {}
      },
      "source": [
        "#设置batchsize\n",
        "BATCH_SIZE=128#根据性能测试\n",
        "train_count=len(train_image_path)\n",
        "train_image_ds=train_image_ds.shuffle(train_count).batch(BATCH_SIZE)\n",
        "#为了加速训练过程\n",
        "train_image_ds=train_image_ds.prefetch(AUTOTUNE)"
      ],
      "execution_count": 0,
      "outputs": []
    },
    {
      "cell_type": "code",
      "metadata": {
        "id": "YnRiGCqZgc5Q",
        "colab_type": "code",
        "colab": {}
      },
      "source": [
        "#这里的化他是一个eage模式的 他是可以迭代的，我们尝试着从中取出一个看一下\n",
        "image,labels=next(iter(train_image_ds))"
      ],
      "execution_count": 0,
      "outputs": []
    },
    {
      "cell_type": "code",
      "metadata": {
        "id": "XQtHnLS2gtaI",
        "colab_type": "code",
        "outputId": "f2399c59-5bf4-44b6-da63-87e64aee4ffa",
        "colab": {
          "base_uri": "https://localhost:8080/",
          "height": 35
        }
      },
      "source": [
        "image.shape"
      ],
      "execution_count": 15,
      "outputs": [
        {
          "output_type": "execute_result",
          "data": {
            "text/plain": [
              "TensorShape([128, 256, 256, 3])"
            ]
          },
          "metadata": {
            "tags": []
          },
          "execution_count": 15
        }
      ]
    },
    {
      "cell_type": "code",
      "metadata": {
        "id": "UXPkMMJAjLhK",
        "colab_type": "code",
        "outputId": "a912d76d-0b11-4e9a-c6e2-d89f858447c0",
        "colab": {
          "base_uri": "https://localhost:8080/",
          "height": 35
        }
      },
      "source": [
        "labels.shape"
      ],
      "execution_count": 16,
      "outputs": [
        {
          "output_type": "execute_result",
          "data": {
            "text/plain": [
              "TensorShape([128, 1])"
            ]
          },
          "metadata": {
            "tags": []
          },
          "execution_count": 16
        }
      ]
    },
    {
      "cell_type": "markdown",
      "metadata": {
        "id": "HR8Dmd1H3vl4",
        "colab_type": "text"
      },
      "source": [
        "##创建模型"
      ]
    },
    {
      "cell_type": "code",
      "metadata": {
        "id": "n9oDd4rx3r3R",
        "colab_type": "code",
        "colab": {}
      },
      "source": [
        "model=tf.keras.Sequential([\n",
        "    tf.keras.layers.Conv2D(64,(3,3),input_shape=(256,256,3),activation='relu'),\n",
        "    tf.keras.layers.MaxPooling2D(),\n",
        "    tf.keras.layers.Conv2D(128,(3,3),activation='relu'),\n",
        "    tf.keras.layers.MaxPooling2D(),\n",
        "    tf.keras.layers.Conv2D(256,(3,3),activation='relu'),\n",
        "    tf.keras.layers.MaxPooling2D(),\n",
        "    tf.keras.layers.Conv2D(512,(3,3),activation='relu'),\n",
        "    tf.keras.layers.MaxPooling2D(),\n",
        "    tf.keras.layers.Conv2D(1024,(3,3),activation='relu'),\n",
        "    tf.keras.layers.GlobalAveragePooling2D(),\n",
        "    tf.keras.layers.Dense(256,activation='relu'),\n",
        "    tf.keras.layers.Dense(1)\n",
        "])"
      ],
      "execution_count": 0,
      "outputs": []
    },
    {
      "cell_type": "code",
      "metadata": {
        "id": "wulNrT6i_vSF",
        "colab_type": "code",
        "outputId": "0cbc70de-8ee2-4f79-f912-fa6c8bf7da04",
        "colab": {
          "base_uri": "https://localhost:8080/",
          "height": 570
        }
      },
      "source": [
        "model.summary()"
      ],
      "execution_count": 20,
      "outputs": [
        {
          "output_type": "stream",
          "text": [
            "Model: \"sequential\"\n",
            "_________________________________________________________________\n",
            "Layer (type)                 Output Shape              Param #   \n",
            "=================================================================\n",
            "conv2d (Conv2D)              (None, 254, 254, 64)      1792      \n",
            "_________________________________________________________________\n",
            "max_pooling2d (MaxPooling2D) (None, 127, 127, 64)      0         \n",
            "_________________________________________________________________\n",
            "conv2d_1 (Conv2D)            (None, 125, 125, 128)     73856     \n",
            "_________________________________________________________________\n",
            "max_pooling2d_1 (MaxPooling2 (None, 62, 62, 128)       0         \n",
            "_________________________________________________________________\n",
            "conv2d_2 (Conv2D)            (None, 60, 60, 256)       295168    \n",
            "_________________________________________________________________\n",
            "max_pooling2d_2 (MaxPooling2 (None, 30, 30, 256)       0         \n",
            "_________________________________________________________________\n",
            "conv2d_3 (Conv2D)            (None, 28, 28, 512)       1180160   \n",
            "_________________________________________________________________\n",
            "max_pooling2d_3 (MaxPooling2 (None, 14, 14, 512)       0         \n",
            "_________________________________________________________________\n",
            "conv2d_4 (Conv2D)            (None, 12, 12, 1024)      4719616   \n",
            "_________________________________________________________________\n",
            "global_average_pooling2d (Gl (None, 1024)              0         \n",
            "_________________________________________________________________\n",
            "dense (Dense)                (None, 256)               262400    \n",
            "_________________________________________________________________\n",
            "dense_1 (Dense)              (None, 1)                 257       \n",
            "=================================================================\n",
            "Total params: 6,533,249\n",
            "Trainable params: 6,533,249\n",
            "Non-trainable params: 0\n",
            "_________________________________________________________________\n"
          ],
          "name": "stdout"
        }
      ]
    },
    {
      "cell_type": "code",
      "metadata": {
        "id": "x_qE20564en7",
        "colab_type": "code",
        "colab": {
          "base_uri": "https://localhost:8080/",
          "height": 1000
        },
        "outputId": "0a31c21d-d0c8-4b15-8509-e5b195f7ad65"
      },
      "source": [
        "pred=model(image)"
      ],
      "execution_count": 22,
      "outputs": [
        {
          "output_type": "execute_result",
          "data": {
            "text/plain": [
              "<tf.Tensor: shape=(128, 1), dtype=float32, numpy=\n",
              "array([[-3.53030395e-04],\n",
              "       [-1.25817023e-04],\n",
              "       [ 1.06327701e-04],\n",
              "       [ 5.09545207e-05],\n",
              "       [-2.35504843e-03],\n",
              "       [-2.89998483e-04],\n",
              "       [-9.64557752e-04],\n",
              "       [-4.26722877e-03],\n",
              "       [-9.66471620e-04],\n",
              "       [-2.64123548e-04],\n",
              "       [-3.07588070e-03],\n",
              "       [-1.17429066e-03],\n",
              "       [-1.44978124e-03],\n",
              "       [-1.18717970e-03],\n",
              "       [-1.41829299e-03],\n",
              "       [-9.57414508e-04],\n",
              "       [-1.96587807e-03],\n",
              "       [-1.63169648e-03],\n",
              "       [-1.48638873e-03],\n",
              "       [-3.09932046e-03],\n",
              "       [ 5.03637828e-04],\n",
              "       [-2.14022538e-03],\n",
              "       [-3.68643785e-03],\n",
              "       [-2.93535716e-03],\n",
              "       [-2.46106554e-03],\n",
              "       [-2.31385138e-03],\n",
              "       [-1.91855198e-03],\n",
              "       [ 1.88092003e-03],\n",
              "       [-3.01395636e-03],\n",
              "       [-3.27314553e-03],\n",
              "       [-3.46944435e-04],\n",
              "       [-6.46645669e-04],\n",
              "       [-3.61922500e-03],\n",
              "       [-1.27682881e-03],\n",
              "       [-9.82807716e-04],\n",
              "       [-1.09906239e-03],\n",
              "       [-1.34994835e-03],\n",
              "       [ 2.59289052e-04],\n",
              "       [-2.05179676e-04],\n",
              "       [ 2.79612374e-04],\n",
              "       [-2.05910346e-03],\n",
              "       [-2.97266524e-04],\n",
              "       [-8.24969262e-04],\n",
              "       [-3.43638938e-04],\n",
              "       [-1.70882465e-03],\n",
              "       [-7.08434265e-04],\n",
              "       [-9.49828187e-04],\n",
              "       [-5.73261175e-04],\n",
              "       [-1.18276803e-03],\n",
              "       [-9.28119523e-04],\n",
              "       [-4.32176469e-03],\n",
              "       [-6.46448694e-04],\n",
              "       [-1.06958579e-03],\n",
              "       [-1.36670750e-03],\n",
              "       [-3.84934177e-03],\n",
              "       [-1.16714975e-04],\n",
              "       [-8.96154903e-04],\n",
              "       [-3.01833730e-04],\n",
              "       [-6.17892714e-04],\n",
              "       [-1.19718444e-03],\n",
              "       [-3.02326540e-03],\n",
              "       [-1.88063830e-04],\n",
              "       [-2.17552250e-03],\n",
              "       [ 4.69485298e-04],\n",
              "       [-2.87889969e-04],\n",
              "       [-7.88963400e-04],\n",
              "       [-8.18799715e-04],\n",
              "       [-7.39419367e-04],\n",
              "       [ 4.92236111e-04],\n",
              "       [-2.72994139e-03],\n",
              "       [-4.05052071e-03],\n",
              "       [-5.36185689e-05],\n",
              "       [-2.45807809e-03],\n",
              "       [-1.87065406e-03],\n",
              "       [-2.12584180e-03],\n",
              "       [-1.45337661e-03],\n",
              "       [-4.87704761e-04],\n",
              "       [-2.60885200e-03],\n",
              "       [-2.45757098e-03],\n",
              "       [ 2.22494407e-03],\n",
              "       [-7.64172524e-04],\n",
              "       [-2.22362252e-03],\n",
              "       [-1.47492625e-03],\n",
              "       [-2.16302718e-03],\n",
              "       [-9.95293027e-04],\n",
              "       [-7.31994864e-04],\n",
              "       [-1.19119370e-03],\n",
              "       [-2.62705865e-03],\n",
              "       [-2.72725243e-03],\n",
              "       [-2.50608753e-03],\n",
              "       [-4.04161401e-05],\n",
              "       [-1.88465975e-03],\n",
              "       [ 8.68763309e-04],\n",
              "       [-5.45410207e-04],\n",
              "       [-1.20508904e-03],\n",
              "       [-2.65414896e-03],\n",
              "       [ 1.08732074e-03],\n",
              "       [-1.56795047e-03],\n",
              "       [-7.74637330e-04],\n",
              "       [ 5.40685374e-04],\n",
              "       [ 1.03402138e-03],\n",
              "       [-2.35476159e-03],\n",
              "       [-1.03654061e-03],\n",
              "       [-1.72573491e-03],\n",
              "       [-2.11865106e-03],\n",
              "       [-2.20714603e-04],\n",
              "       [-2.52378173e-04],\n",
              "       [-5.38301654e-04],\n",
              "       [-1.86610362e-03],\n",
              "       [ 3.06416536e-04],\n",
              "       [-1.27009209e-03],\n",
              "       [ 3.96315940e-04],\n",
              "       [ 5.61741181e-04],\n",
              "       [-4.23336402e-03],\n",
              "       [-8.71318858e-04],\n",
              "       [ 3.65543645e-04],\n",
              "       [-1.43137202e-03],\n",
              "       [-6.92030881e-04],\n",
              "       [-3.36159649e-03],\n",
              "       [-8.90193041e-04],\n",
              "       [-1.89177645e-03],\n",
              "       [-6.29006885e-04],\n",
              "       [-2.81807734e-03],\n",
              "       [-1.44473347e-03],\n",
              "       [-1.57864427e-03],\n",
              "       [-1.65622449e-03],\n",
              "       [-1.34658860e-03],\n",
              "       [-4.39703465e-04]], dtype=float32)>"
            ]
          },
          "metadata": {
            "tags": []
          },
          "execution_count": 22
        }
      ]
    },
    {
      "cell_type": "code",
      "metadata": {
        "id": "VKFMD7U1439r",
        "colab_type": "code",
        "colab": {}
      },
      "source": [
        "tf.cast(pred>0,tf.int32)"
      ],
      "execution_count": 0,
      "outputs": []
    }
  ]
}